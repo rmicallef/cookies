{
 "cells": [
  {
   "cell_type": "markdown",
   "metadata": {},
   "source": [
    "# Probability Distribution Cookie Cutters in Python\n",
    "\n",
    "In the spirit of Valentine's Day, we at Fast Forward Labs thought it would be fun to bake cookies for our sweethearts. Being DIY nerds, we thought we'd math it up a bit.\n",
    "\n",
    "We used python's `numpy` library to generate probability distributions and `matplotlib` to check our disributions. Then we wrote a python function to generate a SCAD file defining three-dimensional shapes from the distributions. Using [OpenSCAD](OPENSCAD LINK), an open-source CAD program, we checked the 3D models and exported them to STL files for printing. We used a 5th Generation [MakerBot Replicator](MAKERBOT REP5 LINK) to print our 3D models. And we baked cookies.\n",
    "\n",
    "Here's the process we used in case you want to make your own. We start with `numpy` to generate our distributions, and `matplotlib` so we can visualize the output."
   ]
  },
  {
   "cell_type": "code",
   "execution_count": 36,
   "metadata": {},
   "outputs": [],
   "source": [
    "import numpy as np\n",
    "from scipy.stats import beta\n",
    "import matplotlib.pyplot as plt"
   ]
  },
  {
   "cell_type": "markdown",
   "metadata": {},
   "source": [
    "We chose a beta distribution because it's well behaved for purposes of making a 3D printed object. \n",
    "* A beta distribution only has values from 0 to 1. This gives us a fixed-width shape to work with. (Compare a Gaussian distribution, which has long tails on both sides.) \n",
    "* The area under the curve of a beta distribution is necessarily 1, which helps keep the shape from getting _too_ eccentric while allowing flexibility in choice of parameters, and thus a wider range of shapes.\n",
    "\n",
    "First, we chose a number of bins, `numbins`, for our distribution. This value should be high enough to have a smooth curve, but low enough to not make it slow to render in OpenSCAD (and slower to 3D print). We also chose an odd-numbered value for `numbins` so our plot (and thus our shape) has a clear peak.\n",
    "\n",
    "We used `numpy`'s `linspace` function to create a set of x-axis points. `linspace` gives us `X`, a set of `numpoints` points, evenly spaced between 0 and 1 (the domain of a beta distribution), that define the sample bins for our distribution.\n",
    "\n",
    "We chose parameters for the beta distribution that make a nice, easily printable shape. You can adjust these parameters to get different shapes as you prefer."
   ]
  },
  {
   "cell_type": "code",
   "execution_count": 37,
   "metadata": {},
   "outputs": [],
   "source": [
    "# choose enough points to have a relatively smooth curve without \n",
    "# creating so many facets that the 3D printer is slow\n",
    "#\n",
    "# choose an odd number so there is a definitive peak to the curve\n",
    "numpoints = 35\n",
    "\n",
    "# set up linspace\n",
    "X = np.linspace(0, 1, numpoints)\n",
    "\n",
    "# beta distribution parameters\n",
    "a, b = 2, 1.6\n",
    "\n",
    "# get beta distribution array\n",
    "betadist = beta.pdf(X, a, b)"
   ]
  },
  {
   "cell_type": "markdown",
   "metadata": {},
   "source": [
    "For the sake of clarity, let's take a look at the values of our x-axis points in `X` and the values we get from our beta distribution in `betadist`. Note that each is `numpoints` long - `X` and `betadist` respectively give the x- and y-values for our plot."
   ]
  },
  {
   "cell_type": "code",
   "execution_count": 38,
   "metadata": {},
   "outputs": [
    {
     "name": "stdout",
     "output_type": "stream",
     "text": [
      "X =\n",
      " [0.         0.02941176 0.05882353 0.08823529 0.11764706 0.14705882\n",
      " 0.17647059 0.20588235 0.23529412 0.26470588 0.29411765 0.32352941\n",
      " 0.35294118 0.38235294 0.41176471 0.44117647 0.47058824 0.5\n",
      " 0.52941176 0.55882353 0.58823529 0.61764706 0.64705882 0.67647059\n",
      " 0.70588235 0.73529412 0.76470588 0.79411765 0.82352941 0.85294118\n",
      " 0.88235294 0.91176471 0.94117647 0.97058824 1.        ]\n",
      "betadist =\n",
      " [0.         0.12018089 0.2359647  0.34726845 0.45400413 0.5560782\n",
      " 0.65339098 0.74583603 0.83329938 0.9156586  0.9927818  1.06452643\n",
      " 1.13073782 1.19124747 1.24587106 1.2944059  1.33662798 1.37228823\n",
      " 1.40110782 1.42277236 1.43692427 1.44315298 1.44098179 1.4298501\n",
      " 1.40908861 1.37788375 1.33522484 1.27982224 1.20997346 1.12332924\n",
      " 1.016446   0.88381529 0.71531122 0.4866772  0.        ]\n"
     ]
    }
   ],
   "source": [
    "print('X =\\n', X)\n",
    "print('betadist =\\n', betadist)"
   ]
  },
  {
   "cell_type": "markdown",
   "metadata": {},
   "source": [
    "Next we do a quick plot of the distribution. This step isn't necessary, but gives us a preview of the shape of the cookie we're going to end up with.\n",
    "\n",
    "We can also save the shape to a scalable vector graphics file (SVG) to inspect visually, or for use in other CAD programs, if you have one."
   ]
  },
  {
   "cell_type": "code",
   "execution_count": 39,
   "metadata": {},
   "outputs": [
    {
     "data": {
      "image/png": "[encoded data removed]",
      "text/plain": [
       "<matplotlib.figure.Figure at 0x7fae01e6f320>"
      ]
     },
     "metadata": {},
     "output_type": "display_data"
    }
   ],
   "source": [
    "# turn off the axes so we only see the curve\n",
    "plt.axis('off')\n",
    "\n",
    "# plot the curve itself\n",
    "plt.plot(X, betadist)\n",
    "\n",
    "# save the SVG file - ending the filename with SVG is enough to set the type\n",
    "plt.savefig('beta.svg')"
   ]
  },
  {
   "cell_type": "markdown",
   "metadata": {},
   "source": [
    "Now we get to the meat of the job. The function below generates a `scad` file. This is a text file that defines objects and operations on objects, which OpenSCAD can use to render the objects.\n",
    "\n",
    "There are two main parts to the `scad` file. The first defines the points of the polygon we're generating. The second performs some manipulation operations to generate a cookie-cutter-like 3D object from the polygon.\n",
    "\n",
    "Here's how this `scad` code makes a cookie cutter. \n",
    "* Two polygons are generated from the points listed above. \n",
    "* One of those polygons is x-translated to be centered at origin (in this example, this is a translation of -0.5 because we know a beta distribtion ranges from 0 to 1), and then extruded into a 3D shape.\n",
    "* The other polygon is scaled up a bit (to make the outer edge of the cookie cutter), then x-, y-, and z-translated such that the inner shape will \"cut\" through the middle of the outer shape at the subtraction operation.\n",
    "* The inner shape is subtracted from the outer shape, leaving a cookie-cutter-like ring.\n",
    "\n",
    "Note that `scad` file language uses a nested order of operations, and braces can be omitted for operations with only one parameter. So the output `scad` code should be read inside-to-outside, i.e., a polygon is generated, then translated, then extruded, then subtracted.\n",
    "\n",
    "Note also that the values used for translating the objects are chosen for the specific shape of the disribution and parameters. Other disributions or parameters will require some tinkering in OpenSCAD to find values that render a cookie cutter well from _that_ distribution-parameter set. \n",
    "\n",
    "Of course it would be better to write code that handles the general case of any distribution and parameter set, but manufacturing physical objects still involves a fair bit of art to go along with its science and the shapes generated from distribution-parameter sets differ widely. Thus [there is no single cookie-cutter solution](https://img.buzzfeed.com/buzzfeed-static/static/2014-03/enhanced/webdr06/31/11/enhanced-19051-1396279602-6.jpg) for all distribution-parameter sets."
   ]
  },
  {
   "cell_type": "code",
   "execution_count": 40,
   "metadata": {},
   "outputs": [],
   "source": [
    "def make_openscad(X, Y, filename):\n",
    "    \n",
    "    # open a file to store our SCAD instructions\n",
    "    with open(filename, \"w+\") as fd:\n",
    "        \n",
    "        # first, we define the polygon\n",
    "        # build a string containing each point of the polygon (plot) describing the distribution\n",
    "        points = \"\"\n",
    "        for x, y in zip(X, Y):\n",
    "            points += \"\\t[{}, {}],\\n\".format(x, y)\n",
    "            \n",
    "        # write the point string to the file in SCAD format\n",
    "        fd.write(\"\"\"\n",
    "points = [\n",
    "{}];\"\"\".format(points))\n",
    "        \n",
    "        # next, we write SCAD instructions to turn the polygon into 3D objects and arrange them as a cookie cutter\n",
    "        # - create two solid shapes from the polygon points defined above \n",
    "        # - index the first shape over to center it on origin\n",
    "        # - scale up the other shape a bit and index in three dimensions to surround the smaller polygon\n",
    "        # - subtract the smaller shape from the larger shape, leaving a scaled up shape with a smaller-shape hole\n",
    "        # - this should give us a cookie cutter\n",
    "        fd.write(\"\"\"\n",
    "difference(){\n",
    "    \n",
    "// OUTER COOKIE CUTTER SHAPE\n",
    "    \n",
    "    // extrude the outer polygon into a 3D shape\n",
    "    // this extrusion is thinner than the inner shape to make sure the inner shape \"cuts\" through it completely\n",
    "    linear_extrude(0.4)\n",
    "    \n",
    "        // x- and y-shift the outer polygon to be roughly centered around the inner shape\n",
    "        // z-shift the outer polygon so the extruded inner shape cuts all the way through\n",
    "        translate([-0.54, -0.03, -0.1])\n",
    "            \n",
    "            // scale this polygon up a bit to make an outer ring of a cookie cutter\n",
    "            scale(1.08, 1.08, 1.08)\n",
    "            \n",
    "                // generate a polygon to become the outer shape\n",
    "                polygon(points);        \n",
    "    \n",
    "// INNER COOKIE CUTTER SHAPE TO BE SUBTRACTED FROM OUTER\n",
    "\n",
    "    // extrude the inner polygon into a 3D shape\n",
    "    // this extrusion is thicker than the outer shape to ensure the inner shape \"cuts\" completey through the outer shape\n",
    "    // the \"scale\" parameter grows the shape as it extrudes to give the finished cutter a narrower edge\n",
    "    linear_extrude(0.6, scale=1.08) \n",
    "    \n",
    "        // x-shift the shape to \n",
    "        translate([-0.5, -0.012, 0]) //x-center the polygon at origin\n",
    "            \n",
    "            // generate a polygon to become the inner shape (this is effectively defining a hole)\n",
    "            polygon(points);\n",
    "}\"\"\")\n",
    "\n",
    "# and now we run the function to make our SCAD file\n",
    "make_openscad(X, betadist, \"beta.scad\")"
   ]
  },
  {
   "cell_type": "markdown",
   "metadata": {},
   "source": [
    "Now we have a file to load into OpenSCAD. OpenSCAD will render this file for us in 3D and export it to a more print friendly format, `stl`.\n",
    "\n",
    "First open the `scad` file in OpenSCAD. Click the render button or press F6 to render the file.\n",
    "\n",
    "Zoom in to the file to inspect it to make sure it looks correct. At this point, make any adjustments you like, especially the x-, y-, and z-translations that define the relationships between the two shapes and thus define the shape of the cookie cutter.\n",
    "\n",
    "This is what our model looked like when we were finished.\n",
    "\n",
    "[SHOULD LOOK LIKE THIS? - ADD image below?](IMAGE LINK)\n",
    "\n",
    "\n",
    "Once you have a shape that's suitably cookie-cutter-y, export the shape to an appropriate format for your 3D printer.  In our case, this was a stereolithography file, `stl` format (in OpenSCAD, File->Export->Export to STL)."
   ]
  },
  {
   "cell_type": "markdown",
   "metadata": {},
   "source": [
    "We printed our cookie cutters at [NYC Resistor](http://www.nycresistor.com), our friendly Brooklyn hackerspace. It's an amazing place to learn, share, and make things (full disclosure: the Fast Forward Labs team includes NYC Resistor members 😉).\n",
    "\n",
    "If you're using a MakerBot printer as we did, you'll need to install their software to make a printer-ready file.\n",
    "* [MakerBot software for Windows and MacOS](https://www.makerbot.com/download-print/)\n",
    "* [MakerBot software for Linux](https://support.makerbot.com/learn/makerbot-desktop-software/installation-and-setup/how-to-install-makerbot-desktop-for-linux_11262)\n",
    "\n",
    "We used MakerBot Desktop for Ubuntu. It looked like this when we imported the `stl` file.\n",
    "\n",
    "[MAKERBOT IMAGE](LINK TO MAKERBOT IMPORT)\n",
    "\n",
    "At this point, you'll need to decide how big of a cookie cutter you want. We had to scale our model up a fair bit.\n",
    "\n",
    "[MAKERBOT IMAGE](LINK TO MAKERBOT SCALE)\n",
    "\n",
    "Note when you scale up the x and y dimensions, that you need not necessarily scale up the z dimension to match - a cookie cutter only needs to be a half inch or so tall."
   ]
  },
  {
   "cell_type": "markdown",
   "metadata": {},
   "source": [
    "From there, we print!\n",
    "\n",
    "[PRINT IMAGE](PRINT IMAGE)\n",
    "\n",
    "We cut!\n",
    "\n",
    "[CUT IMAGE](CUT IMAGE)\n",
    "\n",
    "We bake!\n",
    "\n",
    "[BAKE IMAGE](IMAGE)\n",
    "\n",
    "And eat!\n",
    "\n",
    "[EAT IMAGE](IMAGE)\n",
    "\n",
    "We really enjoyed these probability distribution cookies. Probably, we'll make more samples of these and distribute them to our sweethearts."
   ]
  },
  {
   "cell_type": "code",
   "execution_count": null,
   "metadata": {},
   "outputs": [],
   "source": []
  },
  {
   "cell_type": "code",
   "execution_count": 41,
   "metadata": {},
   "outputs": [
    {
     "data": {
      "image/png": "[encoded data removed]",
      "text/plain": [
       "<matplotlib.figure.Figure at 0x7fae02274be0>"
      ]
     },
     "metadata": {},
     "output_type": "display_data"
    }
   ],
   "source": [
    "import numpy as np\n",
    "import matplotlib.pyplot as plt\n",
    "from scipy.stats import norm\n",
    "\n",
    "X = np.linspace(0, 1, 35)\n",
    "norm = norm.pdf(X, 0.5, 0.2)\n",
    "\n",
    "plt.axis('off')\n",
    "plt.plot(norm)\n",
    "make_openscad(X, norm, \"normal.scad\")\n",
    "plt.savefig('norm.svg')"
   ]
  },
  {
   "cell_type": "code",
   "execution_count": null,
   "metadata": {},
   "outputs": [],
   "source": []
  },
  {
   "cell_type": "code",
   "execution_count": null,
   "metadata": {},
   "outputs": [],
   "source": []
  },
  {
   "cell_type": "code",
   "execution_count": 42,
   "metadata": {},
   "outputs": [],
   "source": [
    "def make_openscad_hist(X, Y, filename):\n",
    "    \n",
    "    # open a file to store our SCAD instructions\n",
    "    with open(filename, \"w+\") as fd:\n",
    "        \n",
    "        # first, we define the polygon\n",
    "        # build a string containing each point of the polygon (plot) describing the distribution\n",
    "        last_x = X[0]\n",
    "        points = \"\\t[0, -0.1],\\n\"\n",
    "        \n",
    "        for x, y in zip(X, Y):\n",
    "            points += \"\\t[{}, {}],\\n\".format(last_x, y)\n",
    "            points += \"\\t[{}, {}],\\n\".format(x, y)\n",
    "            last_x = x\n",
    "            \n",
    "        points += \"\\t[1, -0.1],\\n\"\n",
    "        points += \"\\t[0, -0.1]\\n\"\n",
    "            \n",
    "            \n",
    "        # write the point string to the file in SCAD format\n",
    "        fd.write(\"\"\"\n",
    "points = [\n",
    "{}];\"\"\".format(points))\n",
    "        \n",
    "        # next, we write SCAD instructions to turn the polygon into 3D objects and arrange them as a cookie cutter\n",
    "        # - create two solid shapes from the polygon points defined above \n",
    "        # - index the first shape over to center it on origin\n",
    "        # - scale up the other shape a bit and index in three dimensions to surround the smaller polygon\n",
    "        # - subtract the smaller shape from the larger shape, leaving a scaled up shape with a smaller-shape hole\n",
    "        # - this should give us a cookie cutter\n",
    "        fd.write(\"\"\"\n",
    "difference(){\n",
    "    \n",
    "// OUTER COOKIE CUTTER SHAPE\n",
    "    \n",
    "    // extrude the outer polygon into a 3D shape\n",
    "    // this extrusion is thinner than the inner shape to make sure the inner shape \"cuts\" through it completely\n",
    "    linear_extrude(0.4)\n",
    "    \n",
    "        // x- and y-shift the outer polygon to be roughly centered around the inner shape\n",
    "        // z-shift the outer polygon so the extruded inner shape cuts all the way through\n",
    "        translate([-0.55, 0, -0.1])\n",
    "            \n",
    "            // scale this polygon up a bit to make an outer ring of a cookie cutter\n",
    "            scale(1.3, 1.2, 1)\n",
    "            \n",
    "                // generate a polygon to become the outer shape\n",
    "                polygon(points);        \n",
    "    \n",
    "// INNER COOKIE CUTTER SHAPE TO BE SUBTRACTED FROM OUTER\n",
    "\n",
    "    // extrude the inner polygon into a 3D shape\n",
    "    // this extrusion is thicker than the outer shape to ensure the inner shape \"cuts\" completey through the outer shape\n",
    "    // the \"scale\" parameter grows the shape as it extrudes to give the finished cutter a narrower edge\n",
    "    linear_extrude(0.6) \n",
    "    \n",
    "        // x-shift the shape to \n",
    "        translate([-0.5, -0.012, 0]) //x-center the polygon at origin\n",
    "            \n",
    "            // generate a polygon to become the inner shape (this is effectively defining a hole)\n",
    "            polygon(points);\n",
    "}\"\"\")\n"
   ]
  },
  {
   "cell_type": "code",
   "execution_count": 43,
   "metadata": {},
   "outputs": [
    {
     "data": {
      "image/png": "[encoded data removed]",
      "text/plain": [
       "<matplotlib.figure.Figure at 0x7fae0214a898>"
      ]
     },
     "metadata": {},
     "output_type": "display_data"
    }
   ],
   "source": [
    "import numpy as np\n",
    "import matplotlib.pyplot as plt\n",
    "import collections\n",
    "\n",
    "poisson = np.random.poisson(5, 100000)\n",
    "poisson_counter = collections.Counter(poisson)\n",
    "pcs = sorted(poisson_counter.items(), key=lambda pair: pair[0])\n",
    "X, Y = zip(*pcs)\n",
    "\n",
    "norm_x = []\n",
    "norm_y = []\n",
    "\n",
    "for y in Y:\n",
    "    norm_y.append(y / max(Y))\n",
    "    \n",
    "for x in X:\n",
    "    norm_x.append(x / max(X))\n",
    "\n",
    "plt.axis('off')\n",
    "plt.hist(poisson, bins = len(X))\n",
    "make_openscad_hist(norm_x, norm_y, \"poisson.scad\")\n",
    "plt.savefig('poisson.svg')"
   ]
  },
  {
   "cell_type": "code",
   "execution_count": 44,
   "metadata": {},
   "outputs": [
    {
     "data": {
      "image/png": "[encoded data removed]",
      "text/plain": [
       "<matplotlib.figure.Figure at 0x7fae022baa90>"
      ]
     },
     "metadata": {},
     "output_type": "display_data"
    }
   ],
   "source": [
    "import numpy as np\n",
    "import matplotlib.pyplot as plt\n",
    "\n",
    "tri = np.random.triangular(0, 0.4, 1, 100000)\n",
    "Y, X = np.histogram(tri, bins=19)\n",
    "\n",
    "norm_x = []\n",
    "norm_y = []\n",
    "\n",
    "for y in Y:\n",
    "    norm_y.append(y / max(Y))\n",
    "    \n",
    "for x in X:\n",
    "    norm_x.append(x / max(X))\n",
    "    \n",
    "plt.axis('off')\n",
    "plt.hist(tri, bins = len(X))\n",
    "make_openscad_hist(norm_x, norm_y, \"triangle.scad\")\n",
    "plt.savefig('triangle.svg')"
   ]
  },
  {
   "cell_type": "code",
   "execution_count": 47,
   "metadata": {},
   "outputs": [
    {
     "name": "stdout",
     "output_type": "stream",
     "text": [
      "[1 1 0 ... 1 1 1]\n",
      "0.6652\n",
      "[0.0, 0.5, 1.0] [0.5033072760072159, 1.0]\n"
     ]
    },
    {
     "data": {
      "image/png": "[encoded data removed]",
      "text/plain": [
       "<matplotlib.figure.Figure at 0x7fae022ba828>"
      ]
     },
     "metadata": {},
     "output_type": "display_data"
    }
   ],
   "source": [
    "import numpy as np\n",
    "import matplotlib.pyplot as plt\n",
    "\n",
    "num_tests = 10000\n",
    "binomial = np.random.binomial(1, 2/3, num_tests)\n",
    "\n",
    "print(binomial)\n",
    "print(sum(binomial)/num_tests)\n",
    "\n",
    "Y, X = np.histogram(binomial, bins=2)\n",
    "\n",
    "norm_x = []\n",
    "norm_y = []\n",
    "\n",
    "for y in Y:\n",
    "    norm_y.append(y / max(Y))\n",
    "    \n",
    "for x in X:\n",
    "    norm_x.append(x / max(X))\n",
    "    \n",
    "print(norm_x, norm_y)\n",
    "    \n",
    "plt.axis('off')\n",
    "plt.hist(binomial, bins = len(X))\n",
    "make_openscad_hist(norm_x, norm_y, \"binomial.scad\")\n",
    "plt.savefig('binomial.svg')"
   ]
  },
  {
   "cell_type": "code",
   "execution_count": null,
   "metadata": {},
   "outputs": [],
   "source": []
  }
 ],
 "metadata": {
  "kernelspec": {
   "display_name": "Python 3",
   "language": "python",
   "name": "python3"
  },
  "language_info": {
   "codemirror_mode": {
    "name": "ipython",
    "version": 3
   },
   "file_extension": ".py",
   "mimetype": "text/x-python",
   "name": "python",
   "nbconvert_exporter": "python",
   "pygments_lexer": "ipython3",
   "version": "3.6.4"
  }
 },
 "nbformat": 4,
 "nbformat_minor": 2
}
