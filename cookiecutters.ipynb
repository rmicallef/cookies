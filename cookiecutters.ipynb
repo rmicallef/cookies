{
 "cells": [
  {
   "cell_type": "code",
   "execution_count": 3,
   "metadata": {},
   "outputs": [],
   "source": []
  },
  {
   "cell_type": "code",
   "execution_count": 138,
   "metadata": {},
   "outputs": [
    {
     "data": {
      "image/png": "[encoded data removed]",
      "text/plain": [
       "<matplotlib.figure.Figure at 0x7fc5ec0f47b8>"
      ]
     },
     "metadata": {},
     "output_type": "display_data"
    }
   ],
   "source": [
    "import numpy as np\n",
    "import matplotlib.pyplot as plt\n",
    "from scipy.stats import beta\n",
    "\n",
    "fig, ax = plt.subplots(1, 1)\n",
    "a, b = 2.5, 2.45\n",
    "plt.axis('off')\n",
    "\n",
    "x = np.arange(0, 1, 0.001)\n",
    "\n",
    "plt.plot(x, beta.pdf(x, a, b))\n",
    "plt.savefig('beta.svg', format = 'svg')"
   ]
  },
  {
   "cell_type": "code",
   "execution_count": 137,
   "metadata": {},
   "outputs": [
    {
     "data": {
      "image/png": "[encoded data removed]",
      "text/plain": [
       "<matplotlib.figure.Figure at 0x7fc5ec18e3c8>"
      ]
     },
     "metadata": {},
     "output_type": "display_data"
    }
   ],
   "source": [
    "import numpy as np\n",
    "import matplotlib.pyplot as plt\n",
    "from scipy.stats import norm\n",
    "\n",
    "x_axis = np.arange(-2.7, 2.7, 0.001)\n",
    "plt.axis('off')\n",
    "\n",
    "plt.plot(x_axis, norm.pdf(x_axis,0,1))\n",
    "plt.savefig('norm.svg', format = 'svg')"
   ]
  },
  {
   "cell_type": "code",
   "execution_count": 142,
   "metadata": {},
   "outputs": [
    {
     "data": {
      "image/png": "[encoded data removed]",
      "text/plain": [
       "<matplotlib.figure.Figure at 0x7fc5eccef0f0>"
      ]
     },
     "metadata": {},
     "output_type": "display_data"
    }
   ],
   "source": [
    "import numpy as np\n",
    "import matplotlib.pyplot as plt\n",
    "\n",
    "poisson = np.random.poisson(5, 80000)\n",
    "plt.axis('off')\n",
    "plt.hist(poisson, 17, normed=True)\n",
    "plt.savefig('poisson.svg', format = 'svg')"
   ]
  },
  {
   "cell_type": "code",
   "execution_count": 139,
   "metadata": {},
   "outputs": [
    {
     "data": {
      "image/png": "[encoded data removed]",
      "text/plain": [
       "<matplotlib.figure.Figure at 0x7fc5ec079cc0>"
      ]
     },
     "metadata": {},
     "output_type": "display_data"
    },
    {
     "data": {
      "text/plain": [
       "<matplotlib.figure.Figure at 0x7fc5ec079e80>"
      ]
     },
     "metadata": {},
     "output_type": "display_data"
    }
   ],
   "source": [
    "import numpy as np\n",
    "import matplotlib.pyplot as plt\n",
    "\n",
    "triangle = plt.hist(np.random.triangular(0,0.28, 1, 10000000), bins = 500, normed = True)\n",
    "plt.axis('off')\n",
    "plt.show()\n",
    "plt.savefig('triangle.svg', format = 'svg')"
   ]
  },
  {
   "cell_type": "markdown",
   "metadata": {},
   "source": [
    "#mu = 0\n",
    "#sigma = 1\n",
    "#x = np.linspace(mu - 3 * sigma, mu + 3 * sigma, 100)\n",
    "#plt.plot(x, mlab.normpdf(x, mu, sigma))\n",
    "\n",
    "#beta = np.random.beta(0.5, 0.5)\n",
    "#x = np.linspace(0, 1)\n",
    "#plt.plot(beta)\n",
    "\n",
    "'''\n",
    "samples = np.random.normal(mu, sigma, 100000)\n",
    "\n",
    "count, bins, ignored = plt.hist(samples, 100, normed=True)\n",
    "plt.plot(bins, 1/(sigma * np.sqrt(2 * np.pi)) * np.exp( - (bins - mu)**2 / (2 * sigma**2)))\n",
    "plt.savefig('test.svg', format='svg')\n",
    "'''"
   ]
  },
  {
   "cell_type": "code",
   "execution_count": null,
   "metadata": {},
   "outputs": [],
   "source": []
  }
 ],
 "metadata": {
  "kernelspec": {
   "display_name": "Python 3",
   "language": "python",
   "name": "python3"
  },
  "language_info": {
   "codemirror_mode": {
    "name": "ipython",
    "version": 3
   },
   "file_extension": ".py",
   "mimetype": "text/x-python",
   "name": "python",
   "nbconvert_exporter": "python",
   "pygments_lexer": "ipython3",
   "version": "3.6.4"
  }
 },
 "nbformat": 4,
 "nbformat_minor": 2
}
