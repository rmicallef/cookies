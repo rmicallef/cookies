{
 "cells": [
  {
   "cell_type": "markdown",
   "metadata": {},
   "source": [
    "# Probability Distribution Cookie Cutters in Python\n",
    "\n",
    "In the spirit of Valentine's Day, we at Fast Forward Labs thought it would be fun to bake cookies for our sweethearts. Being DIY nerds, we thought we'd math it up a bit.\n",
    "\n",
    "We used python's `numpy` library to generate probability distributions and `matplotlib` to check our disributions. Then we wrote a python function to generate a SCAD file defining three-dimensional shapes from the distributions. Using [OpenSCAD](OPENSCAD LINK), an open-source CAD program, we checked the 3D models and exported them to STL files for printing. We used a 5th Generation [MakerBot Replicator](MAKERBOT REP5 LINK) to print our 3D models. And we baked cookies.\n",
    "\n",
    "Here's the process we used in case you want to make your own. We start with `numpy` to generate our distributions, and `matplotlib` so we can visualize the output."
   ]
  },
  {
   "cell_type": "code",
   "execution_count": 37,
   "metadata": {},
   "outputs": [],
   "source": [
    "import numpy as np\n",
    "import matplotlib.pyplot as plt"
   ]
  },
  {
   "cell_type": "markdown",
   "metadata": {},
   "source": [
    "We chose a beta distribution because it's well behaved for purposes of making a 3D printed object. \n",
    "* A beta distribution only has values from 0 to 1. This gives us a fixed-width shape to work with. (Compare a Gaussian distribution, which has long tails on both sides.) \n",
    "* The area under the curve of a beta distribution is necessarily 1, which helps keep the shape from getting _too_ eccentric while allowing flexibility in choice of parameters, and thus a wider range of shapes.\n",
    "\n",
    "First, we chose a number of bins, `numbins`, for our distribution. This value should be high enough to have a smooth curve, but low enough to not make it slow to render in OpenSCAD (and slower to 3D print). We also chose an odd-numbered value for `numbins` so our plot (and thus our shape) has a clear peak.\n",
    "\n",
    "We used `numpy`'s `linspace` function to create a set of x-axis points. `linspace` gives us `X`, a set of `numbins` points, evenly spaced between 0 and 1 (the domain of a beta distribution).\n",
    "\n",
    "We chose parameters for the beta distribution that make a nice, easily printable shape. You can adjust these parameters to get different shapes as you prefer."
   ]
  },
  {
   "cell_type": "code",
   "execution_count": 46,
   "metadata": {},
   "outputs": [],
   "source": [
    "# choose enough bins to have a relatively smooth curve without \n",
    "# creating so many facets that the 3D printer is slow\n",
    "#\n",
    "# choose an odd number so there is a definitive peak to the curve\n",
    "numbins = 35\n",
    "\n",
    "# set up linspace\n",
    "X = np.linspace(0, 1, numbins)\n",
    "\n",
    "# beta distribution parameters\n",
    "a, b = 2, 1.6\n",
    "\n",
    "# get beta distribution array\n",
    "betadist = beta.pdf(X, a, b)"
   ]
  },
  {
   "cell_type": "markdown",
   "metadata": {},
   "source": [
    "For the sake of clarity, here are the values of our x-axis points in `X` and the values we get from our beta distribution in `betadist`. Note that each is `numbins` long - `X` and `betadist` respectively give the x- and y-values for our plot."
   ]
  },
  {
   "cell_type": "code",
   "execution_count": 47,
   "metadata": {},
   "outputs": [
    {
     "name": "stdout",
     "output_type": "stream",
     "text": [
      "X =\n",
      " [0.         0.02941176 0.05882353 0.08823529 0.11764706 0.14705882\n",
      " 0.17647059 0.20588235 0.23529412 0.26470588 0.29411765 0.32352941\n",
      " 0.35294118 0.38235294 0.41176471 0.44117647 0.47058824 0.5\n",
      " 0.52941176 0.55882353 0.58823529 0.61764706 0.64705882 0.67647059\n",
      " 0.70588235 0.73529412 0.76470588 0.79411765 0.82352941 0.85294118\n",
      " 0.88235294 0.91176471 0.94117647 0.97058824 1.        ]\n",
      "betadist =\n",
      " [0.         0.12018089 0.2359647  0.34726845 0.45400413 0.5560782\n",
      " 0.65339098 0.74583603 0.83329938 0.9156586  0.9927818  1.06452643\n",
      " 1.13073782 1.19124747 1.24587106 1.2944059  1.33662798 1.37228823\n",
      " 1.40110782 1.42277236 1.43692427 1.44315298 1.44098179 1.4298501\n",
      " 1.40908861 1.37788375 1.33522484 1.27982224 1.20997346 1.12332924\n",
      " 1.016446   0.88381529 0.71531122 0.4866772  0.        ]\n"
     ]
    }
   ],
   "source": [
    "print('X =\\n', X)\n",
    "print('betadist =\\n', betadist)"
   ]
  },
  {
   "cell_type": "markdown",
   "metadata": {},
   "source": [
    "Next we do a quick plot of the distribution. This step isn't necessary, but gives us a preview of the shape of the cookie we're going to end up with.\n",
    "\n",
    "We can also save the shape to a scalable vector graphics file (SVG) to inspect visually, or for use in other CAD programs, if you have one."
   ]
  },
  {
   "cell_type": "code",
   "execution_count": 49,
   "metadata": {},
   "outputs": [
    {
     "data": {
      "image/png": "[encoded data removed]",
      "text/plain": [
       "<matplotlib.figure.Figure at 0x7f73bc0ff908>"
      ]
     },
     "metadata": {},
     "output_type": "display_data"
    }
   ],
   "source": [
    "# turn off the axes so we only see the curve\n",
    "plt.axis('off')\n",
    "\n",
    "# plot the curve itself\n",
    "plt.plot(X, betadist)\n",
    "\n",
    "# save the SVG file - ending the filename with SVG is enough to set the type\n",
    "plt.savefig('beta.svg')"
   ]
  },
  {
   "cell_type": "markdown",
   "metadata": {},
   "source": [
    "Now we get to the meat of the job. The function below generates a `.scad` file, which OpenSCAD (and other CAD programs) can use to render the objects.\n",
    "\n",
    "There are two main parts to the `.scad` file. The first defines the points of the polygon we're generating. The second performs some CAD operations to generate a cookie-cutter-like 3D object from the polygon.\n",
    "\n"
   ]
  },
  {
   "cell_type": "code",
   "execution_count": 52,
   "metadata": {},
   "outputs": [],
   "source": [
    "def make_openscad(X, Y, filename):\n",
    "    \n",
    "    # open a file to store our SCAD instructions\n",
    "    with open(filename, \"w+\") as fd:\n",
    "        \n",
    "        # first, we define the polygon\n",
    "        # build a string containing each point of the polygon (plot) describing the distribution\n",
    "        points = \"\"\n",
    "        for x, y in zip(X, Y):\n",
    "            points += \"\\t[{}, {}],\\n\".format(x, y)\n",
    "            \n",
    "        # write the point string to the file in SCAD format\n",
    "        fd.write(\"\"\"\n",
    "points = [\n",
    "{}];\"\"\".format(points))\n",
    "        \n",
    "        # next, we write SCAD instructions to turn the polygons into solid 3D objects and arrange them into a cookie cutter\n",
    "        # - create two solid shapes from the polygon points defined above \n",
    "        # - index the first shape over to center it on origin\n",
    "        # - scale up the other shape a bit and index in three dimensions to surround the smaller polygon\n",
    "        # - subtract the smaller shape from the larger shape, leaving a scaled up shape with a smaller-shape hole in it\n",
    "        # - this should give us a cookie cutter\n",
    "        fd.write(\"\"\"\n",
    "difference(){\n",
    "    \n",
    "    //outer ring\n",
    "    linear_extrude(0.4)\n",
    "        translate([-0.53, -0.03, -0.1])\n",
    "            scale(1.05, 1.05, 1.05)\n",
    "                polygon(points);        \n",
    "    \n",
    "    //inner distribution to be subtracted\n",
    "    linear_extrude(0.5)\n",
    "        translate([-0.5, 0, 0])\n",
    "            polygon(points);\n",
    "}\"\"\")\n",
    "\n",
    "# and now we run the function to make our SCAD file\n",
    "make_openscad(X, betadist, \"beta.scad\")"
   ]
  },
  {
   "cell_type": "markdown",
   "metadata": {},
   "source": [
    "Now we have a file to load into OpenSCAD.\n",
    "\n",
    "Explain next steps in openscad here\n",
    "- load file\n",
    "- render\n",
    "- adjust parameters to your liking\n",
    "\n",
    "[SHOULD LOOK LIKE THIS? - ADD image below?](IMAGE LINK)\n",
    "\n",
    "- export STL file"
   ]
  },
  {
   "cell_type": "markdown",
   "metadata": {},
   "source": [
    "OpenSCAD save to XYZ format\n",
    "\n",
    "Import to printer software and PRINT"
   ]
  },
  {
   "cell_type": "code",
   "execution_count": null,
   "metadata": {},
   "outputs": [],
   "source": []
  },
  {
   "cell_type": "code",
   "execution_count": null,
   "metadata": {},
   "outputs": [],
   "source": []
  },
  {
   "cell_type": "code",
   "execution_count": null,
   "metadata": {},
   "outputs": [],
   "source": []
  },
  {
   "cell_type": "code",
   "execution_count": 13,
   "metadata": {},
   "outputs": [
    {
     "data": {
      "image/png": "[encoded data removed]",
      "text/plain": [
       "<matplotlib.figure.Figure at 0x7f73b9f666d8>"
      ]
     },
     "metadata": {},
     "output_type": "display_data"
    }
   ],
   "source": [
    "import numpy as np\n",
    "import matplotlib.pyplot as plt\n",
    "#from scipy.stats import norm\n",
    "\n",
    "#TODO: CONVERT TO NUMPY NORMAL DISTRIBUTION\n",
    "#norm = np.random.normal(0, 1, 100)\n",
    "x_axis = np.linspace(0, 1, 51)\n",
    "norm = norm.pdf(x_axis, 0.5, 0.05) # find normalized analog\n",
    "norm /= sum(norm)\n",
    "\n",
    "plt.axis('off')\n",
    "plt.plot(norm)\n",
    "make_openscad(x_axis, norm, \"normal.scad\")\n",
    "plt.savefig('norm.svg')"
   ]
  },
  {
   "cell_type": "code",
   "execution_count": 14,
   "metadata": {},
   "outputs": [
    {
     "data": {
      "text/plain": [
       "array([3.07783945e-23, 1.55124477e-21, 6.66235213e-20, 2.43830325e-18,\n",
       "       7.60432615e-17, 2.02090843e-15, 4.57662596e-14, 8.83195985e-13,\n",
       "       1.45238460e-11, 2.03525611e-10, 2.43035314e-09, 2.47304820e-08,\n",
       "       2.14441414e-07, 1.58451964e-06, 9.97698852e-06, 5.35320903e-05,\n",
       "       2.44760772e-04, 9.53635281e-04, 3.16618063e-03, 8.95781212e-03,\n",
       "       2.15963866e-02, 4.43683339e-02, 7.76744220e-02, 1.15876621e-01,\n",
       "       1.47308056e-01, 1.59576912e-01, 1.47308056e-01, 1.15876621e-01,\n",
       "       7.76744220e-02, 4.43683339e-02, 2.15963866e-02, 8.95781212e-03,\n",
       "       3.16618063e-03, 9.53635281e-04, 2.44760772e-04, 5.35320903e-05,\n",
       "       9.97698852e-06, 1.58451964e-06, 2.14441414e-07, 2.47304820e-08,\n",
       "       2.43035314e-09, 2.03525611e-10, 1.45238460e-11, 8.83195985e-13,\n",
       "       4.57662596e-14, 2.02090843e-15, 7.60432615e-17, 2.43830325e-18,\n",
       "       6.66235213e-20, 1.55124477e-21, 3.07783945e-23])"
      ]
     },
     "execution_count": 14,
     "metadata": {},
     "output_type": "execute_result"
    }
   ],
   "source": [
    "norm"
   ]
  },
  {
   "cell_type": "code",
   "execution_count": 15,
   "metadata": {},
   "outputs": [
    {
     "data": {
      "text/plain": [
       "0.15957691216057304"
      ]
     },
     "execution_count": 15,
     "metadata": {},
     "output_type": "execute_result"
    }
   ],
   "source": [
    "max(norm)"
   ]
  },
  {
   "cell_type": "code",
   "execution_count": null,
   "metadata": {},
   "outputs": [],
   "source": []
  },
  {
   "cell_type": "code",
   "execution_count": null,
   "metadata": {},
   "outputs": [],
   "source": []
  },
  {
   "cell_type": "code",
   "execution_count": null,
   "metadata": {},
   "outputs": [],
   "source": []
  },
  {
   "cell_type": "code",
   "execution_count": null,
   "metadata": {},
   "outputs": [],
   "source": []
  },
  {
   "cell_type": "code",
   "execution_count": null,
   "metadata": {},
   "outputs": [],
   "source": []
  },
  {
   "cell_type": "code",
   "execution_count": null,
   "metadata": {},
   "outputs": [],
   "source": []
  },
  {
   "cell_type": "code",
   "execution_count": null,
   "metadata": {},
   "outputs": [],
   "source": []
  },
  {
   "cell_type": "code",
   "execution_count": 36,
   "metadata": {},
   "outputs": [
    {
     "data": {
      "image/png": "[encoded data removed]",
      "text/plain": [
       "<matplotlib.figure.Figure at 0x7f73b9568080>"
      ]
     },
     "metadata": {},
     "output_type": "display_data"
    }
   ],
   "source": [
    "import numpy as np\n",
    "import matplotlib.pyplot as plt\n",
    "\n",
    "x_axis = np.linspace(0, 1, 17)\n",
    "poisson = np.random.poisson(5, 100000)\n",
    "#normedpoisson = [float(i)/max(poisson) for i in poisson]\n",
    "\n",
    "plt.axis('off')\n",
    "plt.hist(poisson, bins = 17)\n",
    "make_openscad(x_axis, poisson, \"poisson.scad\")\n",
    "plt.savefig('poisson.svg')"
   ]
  },
  {
   "cell_type": "code",
   "execution_count": 17,
   "metadata": {},
   "outputs": [
    {
     "data": {
      "image/png": "[encoded data removed]",
      "text/plain": [
       "<matplotlib.figure.Figure at 0x7f73b9ed59e8>"
      ]
     },
     "metadata": {},
     "output_type": "display_data"
    }
   ],
   "source": [
    "import numpy as np\n",
    "import matplotlib.pyplot as plt\n",
    "\n",
    "triangle = np.random.triangular(0, 0.4, 1, 1000000)\n",
    "plt.axis('off')\n",
    "plt.hist(triangle, bins = 50)\n",
    "plt.savefig('triangle.svg')"
   ]
  },
  {
   "cell_type": "code",
   "execution_count": null,
   "metadata": {},
   "outputs": [],
   "source": []
  }
 ],
 "metadata": {
  "kernelspec": {
   "display_name": "Python 3",
   "language": "python",
   "name": "python3"
  },
  "language_info": {
   "codemirror_mode": {
    "name": "ipython",
    "version": 3
   },
   "file_extension": ".py",
   "mimetype": "text/x-python",
   "name": "python",
   "nbconvert_exporter": "python",
   "pygments_lexer": "ipython3",
   "version": "3.6.4"
  }
 },
 "nbformat": 4,
 "nbformat_minor": 2
}
