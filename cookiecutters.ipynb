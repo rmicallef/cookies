{
 "cells": [
  {
   "cell_type": "markdown",
   "metadata": {},
   "source": [
    "Heading text here\n",
    "\n",
    "Introductory body text here\n",
    "- Libraries (pip install instructions?)\n",
    "- OpenSCAD\n",
    "- conventions np, plt"
   ]
  },
  {
   "cell_type": "code",
   "execution_count": 77,
   "metadata": {},
   "outputs": [],
   "source": [
    "import numpy as np\n",
    "import matplotlib.pyplot as plt"
   ]
  },
  {
   "cell_type": "markdown",
   "metadata": {},
   "source": [
    "Some text explaining the distribution and parameters\n",
    "\n",
    "- Why beta? Known width (0 to 1)\n",
    "- What are the parameters? How'd we choose them?\n",
    "\n",
    "Explain results of linspace\n",
    "- has numbins elements"
   ]
  },
  {
   "cell_type": "code",
   "execution_count": 78,
   "metadata": {},
   "outputs": [],
   "source": [
    "from scipy.stats import beta\n",
    "\n",
    "# beta distribution parameters\n",
    "a, b = 2, 1.6\n",
    "\n",
    "# get beta distribution array\n",
    "betadist = beta.pdf(X, a, b)\n",
    "\n",
    "# choose enough to have a relatively smooth curve without \n",
    "# creating so many facets that the 3D printer is slow\n",
    "# choose an odd number so there is a definitive peak to the curve\n",
    "numbins = 35\n",
    "\n",
    "# set up linspace\n",
    "X = np.linspace(0, 1, numbins)"
   ]
  },
  {
   "cell_type": "markdown",
   "metadata": {},
   "source": [
    "Explain X and beta.pdf"
   ]
  },
  {
   "cell_type": "code",
   "execution_count": 79,
   "metadata": {},
   "outputs": [
    {
     "name": "stdout",
     "output_type": "stream",
     "text": [
      "X =\n",
      " [0.         0.02941176 0.05882353 0.08823529 0.11764706 0.14705882\n",
      " 0.17647059 0.20588235 0.23529412 0.26470588 0.29411765 0.32352941\n",
      " 0.35294118 0.38235294 0.41176471 0.44117647 0.47058824 0.5\n",
      " 0.52941176 0.55882353 0.58823529 0.61764706 0.64705882 0.67647059\n",
      " 0.70588235 0.73529412 0.76470588 0.79411765 0.82352941 0.85294118\n",
      " 0.88235294 0.91176471 0.94117647 0.97058824 1.        ]\n",
      "betadist =\n",
      " [0.         0.12018089 0.2359647  0.34726845 0.45400413 0.5560782\n",
      " 0.65339098 0.74583603 0.83329938 0.9156586  0.9927818  1.06452643\n",
      " 1.13073782 1.19124747 1.24587106 1.2944059  1.33662798 1.37228823\n",
      " 1.40110782 1.42277236 1.43692427 1.44315298 1.44098179 1.4298501\n",
      " 1.40908861 1.37788375 1.33522484 1.27982224 1.20997346 1.12332924\n",
      " 1.016446   0.88381529 0.71531122 0.4866772  0.        ]\n"
     ]
    }
   ],
   "source": [
    "print('X =\\n', X)\n",
    "print('betadist =\\n', betadist)"
   ]
  },
  {
   "cell_type": "markdown",
   "metadata": {},
   "source": [
    "- Result will be a raw plot so you can see the general shape of what you're doing\n",
    "- Save SVG for possible other uses like conversion into other formats or printing"
   ]
  },
  {
   "cell_type": "code",
   "execution_count": 80,
   "metadata": {},
   "outputs": [
    {
     "data": {
      "image/png": "[encoded data removed]",
      "text/plain": [
       "<matplotlib.figure.Figure at 0x7f61a56c8358>"
      ]
     },
     "metadata": {},
     "output_type": "display_data"
    }
   ],
   "source": [
    "# turn off the axes so we only see the curve\n",
    "plt.axis('off')\n",
    "\n",
    "# plot the curve itself\n",
    "plt.plot(X, beta.pdf(X, a, b))\n",
    "\n",
    "# save the SVG file - ending the filename with SVG is enough to set the type\n",
    "plt.savefig('beta.svg')"
   ]
  },
  {
   "cell_type": "markdown",
   "metadata": {},
   "source": [
    "Explain openSCAD generator"
   ]
  },
  {
   "cell_type": "code",
   "execution_count": 81,
   "metadata": {},
   "outputs": [],
   "source": [
    "def make_openscad(X, Y, filename):\n",
    "    with open(filename, \"w+\") as fd:\n",
    "        points = \"\"\n",
    "        for x, y in zip(X, Y):\n",
    "            points += \"\\t[{}, {}],\\n\".format(x, y)\n",
    "        fd.write(\"\"\"\n",
    "points = [\n",
    "{}];\n",
    "linear_extrude(0.5)\n",
    "    polygon(points);\"\"\".format(points))\n",
    "\n",
    "# TODO: add tweaks to makea bottom line\n",
    "\n",
    "# TODO: add tweaks to make expanded version and index over \n",
    "\n",
    "# TODO: add tweaks to subtract shapes\n",
    "        \n",
    "make_openscad(X, beta.pdf(X, a, b), \"beta.scad\")"
   ]
  },
  {
   "cell_type": "markdown",
   "metadata": {},
   "source": [
    "Explain next steps in openscad here\n",
    "- load file\n",
    "\n",
    "[SHOULD LOOK LIKE THIS? - ADD image below?]"
   ]
  },
  {
   "cell_type": "markdown",
   "metadata": {},
   "source": [
    "OpenSCAD save to XYZ format\n",
    "\n",
    "Import to printer software and PRINT"
   ]
  },
  {
   "cell_type": "code",
   "execution_count": null,
   "metadata": {},
   "outputs": [],
   "source": []
  },
  {
   "cell_type": "code",
   "execution_count": null,
   "metadata": {},
   "outputs": [],
   "source": []
  },
  {
   "cell_type": "code",
   "execution_count": null,
   "metadata": {},
   "outputs": [],
   "source": []
  },
  {
   "cell_type": "code",
   "execution_count": 82,
   "metadata": {},
   "outputs": [
    {
     "data": {
      "image/png": "[encoded data removed]",
      "text/plain": [
       "<matplotlib.figure.Figure at 0x7f61a57f6978>"
      ]
     },
     "metadata": {},
     "output_type": "display_data"
    }
   ],
   "source": [
    "import numpy as np\n",
    "import matplotlib.pyplot as plt\n",
    "from scipy.stats import norm\n",
    "\n",
    "#TODO: CONVERT TO NUMPY NORMAL DISTRIBUTION\n",
    "#norm = np.random.normal(0, 1, 100)\n",
    "x_axis = np.linspace(0, 1, 51)\n",
    "norm = norm.pdf(x_axis, 0.5, 0.05) # find normalized analog\n",
    "norm /= sum(norm)\n",
    "\n",
    "plt.axis('off')\n",
    "plt.plot(norm)\n",
    "make_openscad(x_axis, norm, \"normal.scad\")\n",
    "plt.savefig('norm.svg')"
   ]
  },
  {
   "cell_type": "code",
   "execution_count": null,
   "metadata": {},
   "outputs": [],
   "source": []
  },
  {
   "cell_type": "code",
   "execution_count": 83,
   "metadata": {},
   "outputs": [
    {
     "data": {
      "text/plain": [
       "0.15957691216057304"
      ]
     },
     "execution_count": 83,
     "metadata": {},
     "output_type": "execute_result"
    }
   ],
   "source": [
    "max(norm)"
   ]
  },
  {
   "cell_type": "code",
   "execution_count": null,
   "metadata": {},
   "outputs": [],
   "source": []
  },
  {
   "cell_type": "code",
   "execution_count": null,
   "metadata": {},
   "outputs": [],
   "source": []
  },
  {
   "cell_type": "code",
   "execution_count": null,
   "metadata": {},
   "outputs": [],
   "source": []
  },
  {
   "cell_type": "code",
   "execution_count": null,
   "metadata": {},
   "outputs": [],
   "source": []
  },
  {
   "cell_type": "code",
   "execution_count": null,
   "metadata": {},
   "outputs": [],
   "source": []
  },
  {
   "cell_type": "code",
   "execution_count": null,
   "metadata": {},
   "outputs": [],
   "source": []
  },
  {
   "cell_type": "code",
   "execution_count": null,
   "metadata": {},
   "outputs": [],
   "source": []
  },
  {
   "cell_type": "code",
   "execution_count": 84,
   "metadata": {},
   "outputs": [
    {
     "data": {
      "image/png": "[encoded data removed]",
      "text/plain": [
       "<matplotlib.figure.Figure at 0x7f61a5b02860>"
      ]
     },
     "metadata": {},
     "output_type": "display_data"
    }
   ],
   "source": [
    "import numpy as np\n",
    "import matplotlib.pyplot as plt\n",
    "\n",
    "poisson = np.random.poisson(5, 100000)\n",
    "plt.axis('off')\n",
    "plt.hist(poisson, bins = 17)\n",
    "plt.savefig('poisson.svg')"
   ]
  },
  {
   "cell_type": "code",
   "execution_count": 85,
   "metadata": {},
   "outputs": [
    {
     "data": {
      "image/png": "[encoded data removed]",
      "text/plain": [
       "<matplotlib.figure.Figure at 0x7f61a5700668>"
      ]
     },
     "metadata": {},
     "output_type": "display_data"
    }
   ],
   "source": [
    "import numpy as np\n",
    "import matplotlib.pyplot as plt\n",
    "\n",
    "triangle = np.random.triangular(0, 0.4, 1, 1000000)\n",
    "plt.axis('off')\n",
    "plt.hist(triangle, bins = 50)\n",
    "plt.savefig('triangle.svg')"
   ]
  },
  {
   "cell_type": "code",
   "execution_count": null,
   "metadata": {},
   "outputs": [],
   "source": []
  }
 ],
 "metadata": {
  "kernelspec": {
   "display_name": "Python 3",
   "language": "python",
   "name": "python3"
  },
  "language_info": {
   "codemirror_mode": {
    "name": "ipython",
    "version": 3
   },
   "file_extension": ".py",
   "mimetype": "text/x-python",
   "name": "python",
   "nbconvert_exporter": "python",
   "pygments_lexer": "ipython3",
   "version": "3.6.4"
  }
 },
 "nbformat": 4,
 "nbformat_minor": 2
}
